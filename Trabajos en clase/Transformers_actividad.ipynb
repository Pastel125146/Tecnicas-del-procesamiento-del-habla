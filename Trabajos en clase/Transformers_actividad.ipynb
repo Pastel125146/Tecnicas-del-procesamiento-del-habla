{
  "nbformat": 4,
  "nbformat_minor": 0,
  "metadata": {
    "colab": {
      "provenance": []
    },
    "kernelspec": {
      "name": "python3",
      "display_name": "Python 3"
    },
    "language_info": {
      "name": "python"
    }
  },
  "cells": [
    {
      "cell_type": "markdown",
      "source": [
        "## 8.Actividad libre (opcional si hay tiempo)\n",
        "\n",
        "Explorá uno de los pipelines y diseñá tu propio experimento:\n",
        "\n",
        "- Probá frases con sarcasmo o jergas locales.\n",
        "- Resumí un artículo de Wikipedia.\n",
        "- Traducí algo complejo (tecnológico, poético, etc.).\n",
        "- Completá una frase usando estilo formal o informal.\n",
        "\n",
        "Al final compartimos los hallazgos más interesantes con el grupo 👀\n",
        "\n"
      ],
      "metadata": {
        "id": "gC5dHmTaaOO7"
      }
    },
    {
      "cell_type": "markdown",
      "source": [
        "\n",
        "\n",
        "---\n",
        "\n",
        "\n",
        "# *** Actividad libre - Aplicaciones con Hugging Face (temática: postres y cocina)***\n",
        "\n",
        "\n",
        "---\n",
        "\n"
      ],
      "metadata": {
        "id": "pPt346CE7ZKO"
      }
    },
    {
      "cell_type": "code",
      "source": [
        "# Instalación\n",
        "!pip install -q transformers\n",
        "\n",
        "#  Importar pipelines\n",
        "from transformers import pipeline"
      ],
      "metadata": {
        "id": "JrQjP4tF7h3U"
      },
      "execution_count": 2,
      "outputs": []
    },
    {
      "cell_type": "markdown",
      "source": [
        "\n",
        "\n",
        "---\n",
        "\n",
        "\n",
        "***--- 1. Análisis de Sentimiento con sarcasmo y jergas locales ---***\n",
        "\n",
        "\n",
        "---\n",
        "\n"
      ],
      "metadata": {
        "id": "Hg6whlrD7qZ1"
      }
    },
    {
      "cell_type": "code",
      "source": [
        "# Imprime un título con formato para separar visualmente esta sección del resto\n",
        "print(\"\\n 1. Frases con sarcasmo y jergas locales\\n\")\n",
        "\n",
        "# Crea un pipeline de análisis de sentimiento usando el modelo BETO entrenado en español\n",
        "sentiment = pipeline(\"sentiment-analysis\", model=\"finiteautomata/beto-sentiment-analysis\")\n",
        "\n",
        "# Lista de frases que contienen sarcasmo o jergas coloquiales relacionadas con postres\n",
        "frases_sarcasticas = [\n",
        "    \"Riquísimo el flan, si te gusta el gusto a cartón mojado.\",           # Sarcasmo negativo\n",
        "    \"Le metí dulce de leche hasta por las dudas, quedó un manjar.\",       # Jerga positiva\n",
        "    \"¡Posta que esta torta te devuelve la fe en la vida!\",                # Expresión emocional\n",
        "    \"Claro, una delicia… si te gusta masticar cemento.\",                  # Sarcasmo fuerte\n",
        "    \"Este cheesecake está tan bueno que me hizo olvidar a mi ex.\"         # Hiperbole positiva\n",
        "]\n",
        "\n",
        "# Itera sobre cada frase de la lista para analizar su sentimiento\n",
        "for frase in frases_sarcasticas:\n",
        "    resultado = sentiment(frase)[0]  # Aplica el modelo a la frase y extrae el primer resultado (label y score)\n",
        "\n",
        "    # Imprime la frase original, el sentimiento detectado (Positivo o Negativo) y la probabilidad asociada\n",
        "    print(f\"'{frase}' → {resultado['label']} ({resultado['score']:.2f})\")\n"
      ],
      "metadata": {
        "colab": {
          "base_uri": "https://localhost:8080/"
        },
        "id": "0DRXRSLa-L7R",
        "outputId": "21574a3c-60d8-43f4-c183-b98b766eac32"
      },
      "execution_count": 9,
      "outputs": [
        {
          "output_type": "stream",
          "name": "stdout",
          "text": [
            "\n",
            " 1. Frases con sarcasmo y jergas locales\n",
            "\n"
          ]
        },
        {
          "output_type": "stream",
          "name": "stderr",
          "text": [
            "Device set to use cpu\n"
          ]
        },
        {
          "output_type": "stream",
          "name": "stdout",
          "text": [
            "'Riquísimo el flan, si te gusta el gusto a cartón mojado.' → POS (0.93)\n",
            "'Le metí dulce de leche hasta por las dudas, quedó un manjar.' → POS (1.00)\n",
            "'¡Posta que esta torta te devuelve la fe en la vida!' → POS (1.00)\n",
            "'Claro, una delicia… si te gusta masticar cemento.' → NEU (1.00)\n",
            "'Este cheesecake está tan bueno que me hizo olvidar a mi ex.' → POS (1.00)\n"
          ]
        }
      ]
    },
    {
      "cell_type": "markdown",
      "source": [
        "*Muestra cómo el modelo clasifica las frases con sarcasmo o jergas locales según su sentimiento. La mayoría de las frases son **clasificadas como positivas** (POS), incluso si el tono es sarcástico, con una alta certeza en la clasificación (como 1.00). Sin embargo, una frase, \"Claro, una delicia… si te gusta masticar cemento\", es clasificada como neutral (NEU), probablemente porque el sarcasmo no fue suficientemente marcado para ser detectado como negativo*"
      ],
      "metadata": {
        "id": "BRrT9MnvAZfb"
      }
    },
    {
      "cell_type": "markdown",
      "source": [
        "\n",
        "\n",
        "---\n",
        "\n",
        "\n",
        "***--- 2. Resumen de un artículo de Wikipedia sobre cocina ---***\n",
        "\n",
        "\n",
        "---\n",
        "\n"
      ],
      "metadata": {
        "id": "vUD9gIdl8Gut"
      }
    },
    {
      "cell_type": "code",
      "source": [
        "# Imprime un título con formato para separar esta sección del resto\n",
        "print(\"\\n 2. Resumen de artículo de Wikipedia\\n\")\n",
        "\n",
        "# Crea un pipeline de resumen de texto usando el modelo mT5 entrenado para varios idiomas, incluido el español\n",
        "summarizer = pipeline(\n",
        "    \"summarization\",  # Especifica que el pipeline es para resumen de texto\n",
        "    model=\"csebuetnlp/mT5_multilingual_XLSum\",  # Especifica el modelo mT5, adecuado para resumen en varios idiomas\n",
        "    tokenizer=\"csebuetnlp/mT5_multilingual_XLSum\"  # Especifica el tokenizador que debe usarse con el modelo\n",
        ")\n",
        "\n",
        "# Define un texto largo que se quiere resumir, en este caso, sobre la chocotorta, un postre argentino\n",
        "texto_largo = \"\"\"\n",
        "La chocotorta es un postre típico de Argentina que se prepara sin cocción.\n",
        "Se compone de capas de galletitas de chocolate humedecidas en café o leche, intercaladas con una mezcla de queso crema y dulce de leche.\n",
        "Es un postre fácil, económico y muy popular en celebraciones familiares.\n",
        "Su creación se le atribuye a una publicista argentina en la década de 1980.\n",
        "\"\"\"\n",
        "\n",
        "# Utiliza el pipeline para generar el resumen del texto, estableciendo límites de longitud para el resumen\n",
        "resumen = summarizer(texto_largo, max_length=50, min_length=20, do_sample=False)\n",
        "# max_length=50 establece un límite de 50 palabras como longitud máxima para el resumen\n",
        "# min_length=20 garantiza que el resumen no sea más corto de 20 palabras\n",
        "# do_sample=False significa que no se utilizará un muestreo aleatorio, lo que da un resumen determinístico\n",
        "\n",
        "# Imprime el resumen generado\n",
        "print(\" Resumen generado:\\n\", resumen[0]['summary_text'])\n"
      ],
      "metadata": {
        "colab": {
          "base_uri": "https://localhost:8080/"
        },
        "id": "qapaMCWJ-oBS",
        "outputId": "2208b285-b8d6-4a50-c7f4-8efebaea020f"
      },
      "execution_count": 10,
      "outputs": [
        {
          "output_type": "stream",
          "name": "stdout",
          "text": [
            "\n",
            " 2. Resumen de artículo de Wikipedia\n",
            "\n"
          ]
        },
        {
          "output_type": "stream",
          "name": "stderr",
          "text": [
            "/usr/local/lib/python3.11/dist-packages/transformers/convert_slow_tokenizer.py:564: UserWarning: The sentencepiece tokenizer that you are converting to a fast tokenizer uses the byte fallback option which is not implemented in the fast tokenizers. In practice this means that the fast version of the tokenizer can produce unknown tokens whereas the sentencepiece version would have converted these unknown tokens into a sequence of byte tokens matching the original piece of text.\n",
            "  warnings.warn(\n",
            "Device set to use cpu\n"
          ]
        },
        {
          "output_type": "stream",
          "name": "stdout",
          "text": [
            " Resumen generado:\n",
            " La choco Torta es un postre típico de Argentina que se prepara sin cocción.\n"
          ]
        }
      ]
    },
    {
      "cell_type": "markdown",
      "source": [
        "  *Resumió con éxito el texto largo sobre la chocotorta, un postre argentino. El resumen generado es corto, destacando los puntos clave del texto original, como el hecho de que es un postre fácil, económico y popular, y que no requiere cocción. El resultado demuestra cómo el pipeline de resumen puede condensar textos largos sin perder detalles importantes.*"
      ],
      "metadata": {
        "id": "lj636oaIAspr"
      }
    },
    {
      "cell_type": "markdown",
      "source": [
        "\n",
        "\n",
        "---\n",
        "\n",
        "\n",
        "***--- 3. Traducción de texto culinario complejo (poético y técnico) ---***\n",
        "\n",
        "\n",
        "---\n",
        "\n"
      ],
      "metadata": {
        "id": "v371jTPx9ENh"
      }
    },
    {
      "cell_type": "code",
      "source": [
        "# Imprime un título con formato para separar esta sección del resto\n",
        "print(\"\\n 3. Traducción de texto complejo (ES → EN)\\n\")\n",
        "\n",
        "# Crea un pipeline de traducción usando el modelo preentrenado Helsinki-NLP/opus-mt-es-en que traduce de español a inglés\n",
        "translator = pipeline(\"translation\", model=\"Helsinki-NLP/opus-mt-es-en\")\n",
        "\n",
        "# Define una frase poética en español que se va a traducir al inglés\n",
        "texto_poetico = \"El merengue debe ser tan firme que pueda sostener tus sueños sin caerse.\"\n",
        "\n",
        "# Define una frase técnica en español relacionada con cocina que también se va a traducir al inglés\n",
        "texto_tecnico = \"La emulsión perfecta entre la yema y el aceite es clave para una mayonesa brillante.\"\n",
        "\n",
        "# Traducir el texto poético usando el pipeline, y extraer el texto traducido del resultado\n",
        "trad_poetico = translator(texto_poetico)[0]['translation_text']\n",
        "\n",
        "# Traducir el texto técnico usando el pipeline, y extraer el texto traducido del resultado\n",
        "trad_tecnico = translator(texto_tecnico)[0]['translation_text']\n",
        "\n",
        "# Imprime la traducción del texto poético al inglés\n",
        "print(\"- Poético:\\n\", trad_poetico)\n",
        "\n",
        "# Imprime la traducción del texto técnico al inglés\n",
        "print(\"- Técnico:\\n\", trad_tecnico)"
      ],
      "metadata": {
        "colab": {
          "base_uri": "https://localhost:8080/"
        },
        "id": "wpMDxV28_Buy",
        "outputId": "cd78a6ef-c053-4140-e9b9-b43283287030"
      },
      "execution_count": 11,
      "outputs": [
        {
          "output_type": "stream",
          "name": "stdout",
          "text": [
            "\n",
            " 3. Traducción de texto complejo (ES → EN)\n",
            "\n"
          ]
        },
        {
          "output_type": "stream",
          "name": "stderr",
          "text": [
            "/usr/local/lib/python3.11/dist-packages/transformers/models/marian/tokenization_marian.py:177: UserWarning: Recommended: pip install sacremoses.\n",
            "  warnings.warn(\"Recommended: pip install sacremoses.\")\n",
            "Device set to use cpu\n"
          ]
        },
        {
          "output_type": "stream",
          "name": "stdout",
          "text": [
            "- Poético:\n",
            " The meringue must be so firm that it can hold your dreams without falling.\n",
            "- Técnico:\n",
            " The perfect emulsion between yolk and oil is key to a bright mayonnaise.\n"
          ]
        }
      ]
    },
    {
      "cell_type": "markdown",
      "source": [
        "*Tradujo correctamente dos tipos de frases en español al inglés: una poética y una técnica. La traducción mantiene el sentido y estilo de cada oración: la primera conserva el tono metafórico sobre el merengue, y la segunda transmite con precisión una explicación técnica sobre la mayonesa. Esto demuestra que el modelo puede adaptarse bien al contexto y nivel de lenguaje, incluso en dominios distintos como gastronomía y poesía.*"
      ],
      "metadata": {
        "id": "xgeCYSVGBAED"
      }
    },
    {
      "cell_type": "markdown",
      "source": [
        "\n",
        "\n",
        "---\n",
        "\n",
        "\n",
        "***--- 4. Generación de texto: estilo formal vs informal ---***\n",
        "\n",
        "---\n",
        "\n"
      ],
      "metadata": {
        "id": "lhUQdcVg9gXi"
      }
    },
    {
      "cell_type": "code",
      "execution_count": 7,
      "metadata": {
        "colab": {
          "base_uri": "https://localhost:8080/"
        },
        "id": "x1Nd_mvv3JKA",
        "outputId": "13ce27b8-26c6-4792-cbf2-1fcaa2132c84"
      },
      "outputs": [
        {
          "output_type": "stream",
          "name": "stdout",
          "text": [
            "\n",
            " 4. Completación de frase (formal vs informal)\n",
            "\n"
          ]
        },
        {
          "output_type": "stream",
          "name": "stderr",
          "text": [
            "Device set to use cpu\n",
            "Truncation was not explicitly activated but `max_length` is provided a specific value, please use `truncation=True` to explicitly truncate examples to max length. Defaulting to 'longest_first' truncation strategy. If you encode pairs of sequences (GLUE-style) with the tokenizer you can select this strategy more precisely by providing a specific strategy to `truncation`.\n",
            "Both `max_new_tokens` (=256) and `max_length`(=51) seem to have been set. `max_new_tokens` will take precedence. Please refer to the documentation for more information. (https://huggingface.co/docs/transformers/main/en/main_classes/text_generation)\n",
            "Both `max_new_tokens` (=256) and `max_length`(=51) seem to have been set. `max_new_tokens` will take precedence. Please refer to the documentation for more information. (https://huggingface.co/docs/transformers/main/en/main_classes/text_generation)\n"
          ]
        },
        {
          "output_type": "stream",
          "name": "stdout",
          "text": [
            "- Formal:\n",
            " Para lograr una mousse de chocolate perfecta, es fundamental contar con un buen calzado. \n",
            "- Informal:\n",
            " Si querés que la mousse te quede piola, lo que tenés que hacer es visitar a los distribuidores y ver que la mousse es una de las mejores marcas de las que puedes ver en el mercado, pero también lo que necesitas es que te entrelace a los distribuidores y ver que la mousse es una de las mejores que hay. \n"
          ]
        }
      ],
      "source": [
        "# Imprime un título con formato para separar esta sección del resto\n",
        "print(\"\\n 4. Completación de frase (formal vs informal)\\n\")\n",
        "\n",
        "# Crea un pipeline de generación de texto usando el modelo preentrenado PlanTL-GOB-ES/gpt2-base-bne (un modelo GPT-2 adaptado al español)\n",
        "generator = pipeline(\"text-generation\", model=\"PlanTL-GOB-ES/gpt2-base-bne\")\n",
        "\n",
        "# Define un \"prompt\" formal para generar la continuación de la frase de manera más seria y técnica\n",
        "prompt_formal = \"Para lograr una mousse de chocolate perfecta, es fundamental\"\n",
        "\n",
        "# Define un \"prompt\" informal para generar la continuación de la frase de manera más relajada y coloquial\n",
        "prompt_informal = \"Si querés que la mousse te quede piola, lo que tenés que hacer es\"\n",
        "\n",
        "# Genera una continuación para el prompt formal utilizando el generador de texto, limitando la longitud máxima a 50 palabras y obteniendo una única secuencia de salida\n",
        "gen_formal = generator(prompt_formal, max_length=50, num_return_sequences=1)[0]['generated_text']\n",
        "\n",
        "# Genera una continuación para el prompt informal utilizando el generador de texto, limitando la longitud máxima a 50 palabras y obteniendo una única secuencia de salida\n",
        "gen_informal = generator(prompt_informal, max_length=50, num_return_sequences=1)[0]['generated_text']\n",
        "\n",
        "# Imprime la continuación generada para el \"prompt\" formal, mostrando cómo continúa la frase de manera más seria\n",
        "print(\"- Formal:\\n\", gen_formal)\n",
        "\n",
        "# Imprime la continuación generada para el \"prompt\" informal, mostrando cómo continúa la frase de manera más coloquial\n",
        "print(\"- Informal:\\n\", gen_informal)\n"
      ]
    },
    {
      "cell_type": "markdown",
      "source": [
        "**Completación de frase (formal vs informal):**\n",
        "\n",
        "El modelo generó continuaciones en dos estilos diferentes a partir de la misma frase inicial sobre una mousse de chocolate.\n",
        "\n",
        "* En el estilo **formal**, la respuesta fue coherente pero absurda: “es fundamental contar con un buen calzado”, lo cual no tiene relación con la cocina.\n",
        "\n",
        "+ En el estilo **informal**, la salida fue más larga, coloquial y algo desorganizada, con repeticiones y frases confusas como “ver que la mousse es una de las mejores”.\n",
        "\n",
        "Esto muestra que el modelo distingue entre registros de lenguaje, aunque puede perder precisión temática, sobre todo en el estilo informal. Ideal para ilustrar diferencias de tono, pero no tanto para coherencia en cocina."
      ],
      "metadata": {
        "id": "EhyFubvRBSqV"
      }
    }
  ]
}
